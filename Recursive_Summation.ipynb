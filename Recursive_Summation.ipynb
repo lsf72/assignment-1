{
  "nbformat": 4,
  "nbformat_minor": 0,
  "metadata": {
    "colab": {
      "provenance": [],
      "authorship_tag": "ABX9TyN1TO/+8/El4Cn5c0GFO70f",
      "include_colab_link": true
    },
    "kernelspec": {
      "name": "python3",
      "display_name": "Python 3"
    },
    "language_info": {
      "name": "python"
    }
  },
  "cells": [
    {
      "cell_type": "markdown",
      "metadata": {
        "id": "view-in-github",
        "colab_type": "text"
      },
      "source": [
        "<a href=\"https://colab.research.google.com/github/lsf72/assignment-1/blob/main/Recursive_Summation.ipynb\" target=\"_parent\"><img src=\"https://colab.research.google.com/assets/colab-badge.svg\" alt=\"Open In Colab\"/></a>"
      ]
    },
    {
      "cell_type": "code",
      "execution_count": 1,
      "metadata": {
        "colab": {
          "base_uri": "https://localhost:8080/"
        },
        "id": "cvVRV1dopj7O",
        "outputId": "569d902c-6ce2-4966-c326-32ae223920cb"
      },
      "outputs": [
        {
          "output_type": "stream",
          "name": "stdout",
          "text": [
            "5\n",
            "4\n",
            "3\n",
            "2\n",
            "1\n",
            "0\n"
          ]
        }
      ],
      "source": [
        "def countdown (n):\n",
        "    for i in range(n, -1, -1):\n",
        "      print(i)\n",
        "countdown(5)"
      ]
    },
    {
      "cell_type": "code",
      "source": [
        "def recursive_countdown(n):\n",
        "  if n == 0: #base case\n",
        "    print(0)\n",
        "  else:\n",
        "    print(n)\n",
        "    recursive_countdown(n-1)\n",
        "\n",
        "recursive_countdown(5)"
      ],
      "metadata": {
        "colab": {
          "base_uri": "https://localhost:8080/"
        },
        "id": "V3rtfpXopqty",
        "outputId": "76d24c34-4e6c-4aec-94c0-b6b86804c14b"
      },
      "execution_count": 15,
      "outputs": [
        {
          "output_type": "stream",
          "name": "stdout",
          "text": [
            "5\n",
            "4\n",
            "3\n",
            "2\n",
            "1\n",
            "0\n"
          ]
        }
      ]
    },
    {
      "cell_type": "code",
      "source": [
        "def summation(n):\n",
        "  s = 0\n",
        "  while n >= 0:\n",
        "    s = s + n\n",
        "    n = n - 1\n",
        "  return s\n",
        "\n",
        "summation(4)"
      ],
      "metadata": {
        "colab": {
          "base_uri": "https://localhost:8080/"
        },
        "id": "b8cBlfpZvNNr",
        "outputId": "7f4978ca-4b52-4a5f-a473-7734271b962a"
      },
      "execution_count": 24,
      "outputs": [
        {
          "output_type": "execute_result",
          "data": {
            "text/plain": [
              "10"
            ]
          },
          "metadata": {},
          "execution_count": 24
        }
      ]
    },
    {
      "cell_type": "code",
      "source": [
        "def recursive_summation(n):\n",
        "  if n == 0:\n",
        "    return 0\n",
        "  else:\n",
        "    return n + recursive_summation(n-1)\n",
        "\n",
        "recursive_summation(4)"
      ],
      "metadata": {
        "colab": {
          "base_uri": "https://localhost:8080/"
        },
        "id": "8hXcR9E5xWJI",
        "outputId": "4644ef3f-6d3c-496e-850c-e279a92b9dc2"
      },
      "execution_count": 27,
      "outputs": [
        {
          "output_type": "execute_result",
          "data": {
            "text/plain": [
              "10"
            ]
          },
          "metadata": {},
          "execution_count": 27
        }
      ]
    },
    {
      "cell_type": "code",
      "source": [
        "def recursive_summation(n):\n",
        "  if n == 1:\n",
        "    return 1\n",
        "  else:\n",
        "    return n * recursive_summation(n-1)\n",
        "\n",
        "recursive_summation(20)"
      ],
      "metadata": {
        "colab": {
          "base_uri": "https://localhost:8080/"
        },
        "id": "-h2GiDZW0cb7",
        "outputId": "9554fbc4-298f-4f73-bbd3-56c8363cfe33"
      },
      "execution_count": 33,
      "outputs": [
        {
          "output_type": "execute_result",
          "data": {
            "text/plain": [
              "2432902008176640000"
            ]
          },
          "metadata": {},
          "execution_count": 33
        }
      ]
    },
    {
      "cell_type": "code",
      "source": [
        "def fibR(n):\n",
        "  if n == 0 or n == 1:\n",
        "    return 1\n",
        "  else:\n",
        "    return  fibR(n-1) + fibR(n -2)\n",
        "\n",
        "for i in range(7):\n",
        "  print(fibR(i), end=\" \")"
      ],
      "metadata": {
        "colab": {
          "base_uri": "https://localhost:8080/"
        },
        "id": "glwIXH-539H_",
        "outputId": "f2674b28-2aae-4b0b-cadf-dcf53faa9751"
      },
      "execution_count": 50,
      "outputs": [
        {
          "output_type": "stream",
          "name": "stdout",
          "text": [
            "1 1 2 3 5 8 13 "
          ]
        }
      ]
    }
  ]
}