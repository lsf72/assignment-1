{
  "nbformat": 4,
  "nbformat_minor": 0,
  "metadata": {
    "colab": {
      "provenance": [],
      "authorship_tag": "ABX9TyNjj860Hbh7p7Dn2bNszCYH",
      "include_colab_link": true
    },
    "kernelspec": {
      "name": "python3",
      "display_name": "Python 3"
    },
    "language_info": {
      "name": "python"
    }
  },
  "cells": [
    {
      "cell_type": "markdown",
      "metadata": {
        "id": "view-in-github",
        "colab_type": "text"
      },
      "source": [
        "<a href=\"https://colab.research.google.com/github/lsf72/assignment-1/blob/main/Parking_Garage.ipynb\" target=\"_parent\"><img src=\"https://colab.research.google.com/assets/colab-badge.svg\" alt=\"Open In Colab\"/></a>"
      ]
    },
    {
      "cell_type": "code",
      "execution_count": null,
      "metadata": {
        "colab": {
          "base_uri": "https://localhost:8080/"
        },
        "id": "D5LnrYBlrUKU",
        "outputId": "c432fe2e-af9e-4671-8cea-f9cf458fd5c4"
      },
      "outputs": [
        {
          "output_type": "execute_result",
          "data": {
            "text/plain": [
              "[(1, 7.5),\n",
              " (2, 10.0),\n",
              " (3, 12.5),\n",
              " (4, 15.0),\n",
              " (5, 17.5),\n",
              " (6, 20.0),\n",
              " (7, 22.5),\n",
              " (8, 25.0)]"
            ]
          },
          "metadata": {},
          "execution_count": 5
        }
      ],
      "source": [
        "base_fee = 5\n",
        "hourly_rate = 2.50\n",
        "hours = 8\n",
        "\n",
        "parking_fees = [(hours, base_fee + hours * hourly_rate) for hours in range(1, hours + 1)]\n",
        "\n",
        "parking_fees\n"
      ]
    },
    {
      "cell_type": "code",
      "source": [],
      "metadata": {
        "id": "dO4LIBc9seiL"
      },
      "execution_count": null,
      "outputs": []
    }
  ]
}