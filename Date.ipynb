{
  "nbformat": 4,
  "nbformat_minor": 0,
  "metadata": {
    "colab": {
      "provenance": [],
      "authorship_tag": "ABX9TyMqkN89t+AOPzH68g3OzfMp",
      "include_colab_link": true
    },
    "kernelspec": {
      "name": "python3",
      "display_name": "Python 3"
    },
    "language_info": {
      "name": "python"
    }
  },
  "cells": [
    {
      "cell_type": "markdown",
      "metadata": {
        "id": "view-in-github",
        "colab_type": "text"
      },
      "source": [
        "<a href=\"https://colab.research.google.com/github/lsf72/assignment-1/blob/main/Date.ipynb\" target=\"_parent\"><img src=\"https://colab.research.google.com/assets/colab-badge.svg\" alt=\"Open In Colab\"/></a>"
      ]
    },
    {
      "cell_type": "code",
      "execution_count": null,
      "metadata": {
        "id": "9TI0Pj1kxcKw"
      },
      "outputs": [],
      "source": [
        "s = str(input(\"Enter a date in the formate: MM/DD/YYYY\"))\n",
        "month = s[0:2]\n",
        "day = s[3:5]\n",
        "year = s[6:]\n",
        "print(f\"The month is {month}, the day is {day}, the year is {year}\")\n"
      ]
    }
  ]
}