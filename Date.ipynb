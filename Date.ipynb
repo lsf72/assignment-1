{
  "nbformat": 4,
  "nbformat_minor": 0,
  "metadata": {
    "colab": {
      "provenance": [],
      "authorship_tag": "ABX9TyNTGnMsUZBSbxgnqFg16dvv",
      "include_colab_link": true
    },
    "kernelspec": {
      "name": "python3",
      "display_name": "Python 3"
    },
    "language_info": {
      "name": "python"
    }
  },
  "cells": [
    {
      "cell_type": "markdown",
      "metadata": {
        "id": "view-in-github",
        "colab_type": "text"
      },
      "source": [
        "<a href=\"https://colab.research.google.com/github/lsf72/assignment-1/blob/main/Date.ipynb\" target=\"_parent\"><img src=\"https://colab.research.google.com/assets/colab-badge.svg\" alt=\"Open In Colab\"/></a>"
      ]
    },
    {
      "cell_type": "code",
      "execution_count": 7,
      "metadata": {
        "colab": {
          "base_uri": "https://localhost:8080/"
        },
        "id": "9TI0Pj1kxcKw",
        "outputId": "7f019ac5-52d6-4268-c4c0-7f920b2bb6f7"
      },
      "outputs": [
        {
          "output_type": "stream",
          "name": "stdout",
          "text": [
            "Enter a date in the formate: MM/DD/YYYY02/20/2024\n",
            "The month is 02, the day is 20, the year is 2024\n"
          ]
        }
      ],
      "source": [
        "date = str(input(\"Enter a date in the formate: MM/DD/YYYY\"))\n",
        "month = date[0:2]\n",
        "day = date[3:5]\n",
        "year = date[6:]\n",
        "\n",
        "print(f\"The month is {month}, the day is {day}, the year is {year}\")\n"
      ]
    }
  ]
}