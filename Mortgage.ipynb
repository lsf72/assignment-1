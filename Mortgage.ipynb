{
  "nbformat": 4,
  "nbformat_minor": 0,
  "metadata": {
    "colab": {
      "provenance": [],
      "authorship_tag": "ABX9TyOmnj2XmsO9nVgx7ifWWaMD",
      "include_colab_link": true
    },
    "kernelspec": {
      "name": "python3",
      "display_name": "Python 3"
    },
    "language_info": {
      "name": "python"
    }
  },
  "cells": [
    {
      "cell_type": "markdown",
      "metadata": {
        "id": "view-in-github",
        "colab_type": "text"
      },
      "source": [
        "<a href=\"https://colab.research.google.com/github/lsf72/assignment-1/blob/main/Mortgage.ipynb\" target=\"_parent\"><img src=\"https://colab.research.google.com/assets/colab-badge.svg\" alt=\"Open In Colab\"/></a>"
      ]
    },
    {
      "cell_type": "code",
      "execution_count": 6,
      "metadata": {
        "id": "LF8ZD0L2qHE6"
      },
      "outputs": [],
      "source": [
        "class Mortgage:\n",
        "  def __init__(self, amount, maturity, interest):\n",
        "    self.amount = amount\n",
        "    self.maturity = maturity\n",
        "    self._interest = interest\n",
        "  def __str__(self):\n",
        "    return \"I am an instance of mortgage\"\n",
        "\n",
        "  def get_interest(self):\n",
        "    return self.__interest\n",
        "\n",
        "  def set_interest(self, newInterest):\n",
        "    if newInterest >= 0:\n",
        "      self.__interest = newInterest\n",
        "    else:\n",
        "      print ('Interest values must be non-negative')\n",
        "\n",
        "    self.__interest = newInterest\n",
        "  def payment(self):\n",
        "    r = self._interest/100\n",
        "    n = self.maturity * 12\n",
        "    return self.amount * (r * (1+r) **n)/((1+r) ** n - 1)"
      ]
    },
    {
      "cell_type": "code",
      "source": [
        "m = Mortgage(100000, 30, 6)\n",
        "m.payment()"
      ],
      "metadata": {
        "colab": {
          "base_uri": "https://localhost:8080/"
        },
        "id": "cL6205RcrYuo",
        "outputId": "3876ee7a-c4ef-40fa-f30b-fb9ff1e5f867"
      },
      "execution_count": 7,
      "outputs": [
        {
          "output_type": "execute_result",
          "data": {
            "text/plain": [
              "6000.000004656286"
            ]
          },
          "metadata": {},
          "execution_count": 7
        }
      ]
    },
    {
      "cell_type": "code",
      "source": [
        "m.set_interest(5)\n",
        "m.get_interest()"
      ],
      "metadata": {
        "colab": {
          "base_uri": "https://localhost:8080/"
        },
        "id": "S-gDajE7rg4q",
        "outputId": "b35f1d92-7189-42db-9fb6-44aa835e805a"
      },
      "execution_count": 8,
      "outputs": [
        {
          "output_type": "execute_result",
          "data": {
            "text/plain": [
              "5"
            ]
          },
          "metadata": {},
          "execution_count": 8
        }
      ]
    }
  ]
}