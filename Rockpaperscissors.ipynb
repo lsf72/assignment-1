{
  "nbformat": 4,
  "nbformat_minor": 0,
  "metadata": {
    "colab": {
      "provenance": [],
      "authorship_tag": "ABX9TyNaI9+F7llQfle3ZtDluytR",
      "include_colab_link": true
    },
    "kernelspec": {
      "name": "python3",
      "display_name": "Python 3"
    },
    "language_info": {
      "name": "python"
    }
  },
  "cells": [
    {
      "cell_type": "markdown",
      "metadata": {
        "id": "view-in-github",
        "colab_type": "text"
      },
      "source": [
        "<a href=\"https://colab.research.google.com/github/lsf72/assignment-1/blob/main/Rockpaperscissors.ipynb\" target=\"_parent\"><img src=\"https://colab.research.google.com/assets/colab-badge.svg\" alt=\"Open In Colab\"/></a>"
      ]
    },
    {
      "cell_type": "code",
      "execution_count": null,
      "metadata": {
        "id": "KPOiKqr9vPeF"
      },
      "outputs": [],
      "source": [
        "import random"
      ]
    },
    {
      "cell_type": "code",
      "source": [
        "def get_user_choice():\n",
        "    \"\"\"Get user's choice and validate it.\"\"\"\n",
        "    choices = ['rock', 'paper', 'scissors']\n",
        "    while True:\n",
        "        user_input = input(\"Enter your choice (rock, paper, scissors): \").lower()\n",
        "        if user_input in choices:\n",
        "            return user_input\n",
        "        else:\n",
        "            print(\"Invalid choice. Please choose rock, paper, or scissors.\")\n",
        "\n",
        "def determine_winner(user_choice, computer_choice):\n",
        "    \"\"\"Determine the winner of the game.\"\"\"\n",
        "    if user_choice == computer_choice:\n",
        "        return \"It's a tie!\"\n",
        "    elif (user_choice == \"rock\" and computer_choice == \"scissors\") or \\\n",
        "         (user_choice == \"paper\" and computer_choice == \"rock\") or \\\n",
        "         (user_choice == \"scissors\" and computer_choice == \"paper\"):\n",
        "        return \"You win!\"\n",
        "    else:\n",
        "        return \"Computer wins!\"\n",
        "def play_rock_paper_scissors():\n",
        "    \"\"\"Play a game of rock, paper, scissors.\"\"\"\n",
        "    choices = ['rock', 'paper', 'scissors']\n",
        "\n",
        "    user_choice = get_user_choice()\n",
        "    computer_choice = random.choice(choices)\n",
        "\n",
        "    print(f\"Your choice: {user_choice}\")\n",
        "    print(f\"Computer's choice: {computer_choice}\")\n",
        "\n",
        "    result = determine_winner(user_choice, computer_choice)\n",
        "    print(result)\n",
        "\n",
        "# Run the game\n",
        "play_rock_paper_scissors()"
      ],
      "metadata": {
        "colab": {
          "base_uri": "https://localhost:8080/"
        },
        "id": "ERyhhphvvZVG",
        "outputId": "4d877bbd-8ff8-46e5-e629-b8249f0a8ad3"
      },
      "execution_count": null,
      "outputs": [
        {
          "output_type": "stream",
          "name": "stdout",
          "text": [
            "Enter your choice (rock, paper, scissors): rock\n",
            "Your choice: rock\n",
            "Computer's choice: scissors\n",
            "You win!\n"
          ]
        }
      ]
    }
  ]
}