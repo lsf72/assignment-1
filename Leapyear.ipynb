{
  "nbformat": 4,
  "nbformat_minor": 0,
  "metadata": {
    "colab": {
      "provenance": [],
      "authorship_tag": "ABX9TyO41v9G4aGuyogdGB87EXXj",
      "include_colab_link": true
    },
    "kernelspec": {
      "name": "python3",
      "display_name": "Python 3"
    },
    "language_info": {
      "name": "python"
    }
  },
  "cells": [
    {
      "cell_type": "markdown",
      "metadata": {
        "id": "view-in-github",
        "colab_type": "text"
      },
      "source": [
        "<a href=\"https://colab.research.google.com/github/lsf72/assignment-1/blob/main/Leapyear.ipynb\" target=\"_parent\"><img src=\"https://colab.research.google.com/assets/colab-badge.svg\" alt=\"Open In Colab\"/></a>"
      ]
    },
    {
      "cell_type": "code",
      "execution_count": null,
      "metadata": {
        "colab": {
          "base_uri": "https://localhost:8080/",
          "height": 53
        },
        "id": "n5Yh1bMf4V6v",
        "outputId": "cc53d625-506a-4ea9-9b6f-5c0c83d19916"
      },
      "outputs": [
        {
          "name": "stdout",
          "output_type": "stream",
          "text": [
            "Enter the year: 300\n"
          ]
        },
        {
          "output_type": "execute_result",
          "data": {
            "text/plain": [
              "'Not a leap year'"
            ],
            "application/vnd.google.colaboratory.intrinsic+json": {
              "type": "string"
            }
          },
          "metadata": {},
          "execution_count": 24
        }
      ],
      "source": [
        "\n",
        "def determine_if_leap(year):\n",
        "    \"\"\"Determine if year is a leap year\"\"\"\n",
        "    if year%4 != 0:\n",
        "        return \"Not a leap year\"\n",
        "    elif (year%4 == 0 and year%100 == 0 and year%400 == 0) or \\\n",
        "         (year%4 == 0 and year%100 != 0):\n",
        "        return \"Leap year\"\n",
        "    else:\n",
        "        return \"Not a leap year\"\n",
        "user_input = int(input(\"Enter the year: \").lower())\n",
        "determine_if_leap(user_input)"
      ]
    }
  ]
}