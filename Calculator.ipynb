{
  "nbformat": 4,
  "nbformat_minor": 0,
  "metadata": {
    "colab": {
      "provenance": [],
      "authorship_tag": "ABX9TyP5ZhkCCZ848rzYGtotayfe",
      "include_colab_link": true
    },
    "kernelspec": {
      "name": "python3",
      "display_name": "Python 3"
    },
    "language_info": {
      "name": "python"
    }
  },
  "cells": [
    {
      "cell_type": "markdown",
      "metadata": {
        "id": "view-in-github",
        "colab_type": "text"
      },
      "source": [
        "<a href=\"https://colab.research.google.com/github/lsf72/assignment-1/blob/main/Calculator.ipynb\" target=\"_parent\"><img src=\"https://colab.research.google.com/assets/colab-badge.svg\" alt=\"Open In Colab\"/></a>"
      ]
    },
    {
      "cell_type": "code",
      "execution_count": null,
      "metadata": {
        "id": "wiJDvFUBZzZq"
      },
      "outputs": [],
      "source": [
        "while True:\n",
        "  output = 0\n",
        "  a = float(input('Enter your first value: '))\n",
        "  b = float(input('Enter your second value: '))\n",
        "  operator = str(input('Enter your operator: '))\n",
        "\n",
        "  if operator == 'break':\n",
        "    break\n",
        "  if operator == '+':\n",
        "    output = a + b\n",
        "  elif operator == '-':\n",
        "    output = a - b\n",
        "  elif operator == '*':\n",
        "    output = a * b\n",
        "  elif operator == '/':\n",
        "    output = a / b\n",
        "  elif operator == '//':\n",
        "    output = a // b\n",
        "  elif operator == '%':\n",
        "    output = a % b\n",
        "  else:\n",
        "    print('Invalid opertor')\n",
        "    continue\n",
        "\n",
        "  print(output)"
      ]
    }
  ]
}