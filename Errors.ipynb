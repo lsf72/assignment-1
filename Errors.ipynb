{
  "nbformat": 4,
  "nbformat_minor": 0,
  "metadata": {
    "colab": {
      "provenance": [],
      "authorship_tag": "ABX9TyOzsmEIAgTLINKkm7xJArOq",
      "include_colab_link": true
    },
    "kernelspec": {
      "name": "python3",
      "display_name": "Python 3"
    },
    "language_info": {
      "name": "python"
    }
  },
  "cells": [
    {
      "cell_type": "markdown",
      "metadata": {
        "id": "view-in-github",
        "colab_type": "text"
      },
      "source": [
        "<a href=\"https://colab.research.google.com/github/lsf72/assignment-1/blob/main/Errors.ipynb\" target=\"_parent\"><img src=\"https://colab.research.google.com/assets/colab-badge.svg\" alt=\"Open In Colab\"/></a>"
      ]
    },
    {
      "cell_type": "code",
      "execution_count": 17,
      "metadata": {
        "colab": {
          "base_uri": "https://localhost:8080/"
        },
        "id": "Ani0Kl5rxjvb",
        "outputId": "ad91fe8e-bcb7-43f8-e03b-decd732dbb2a"
      },
      "outputs": [
        {
          "output_type": "stream",
          "name": "stdout",
          "text": [
            "Enter a numerator: 1\n",
            "Enter a denominator: 2\n",
            "0.5\n",
            "Division Complete\n",
            "Program ends.\n"
          ]
        }
      ],
      "source": [
        "try:\n",
        "  a = float(input('Enter a numerator: '))\n",
        "  b = float(input('Enter a denominator: '))\n",
        "  print(a/b)\n",
        "  print('Division Complete')\n",
        "except ZeroDivisionError:\n",
        "  print('Denominator cant be zero!')\n",
        "except ValueError:\n",
        "  print('Values must be numbers')\n",
        "except:\n",
        "  print('Unknown Error.')\n",
        "\n",
        "print('Program ends.')"
      ]
    },
    {
      "cell_type": "code",
      "source": [
        "l = [1,3,5,7,9]\n",
        "\n",
        "try:\n",
        "    idx = int(input('Enter index:'))\n",
        "    print(l[idx])\n",
        "except TypeError:\n",
        "  print('Index must be an int')\n",
        "except IndexError:\n",
        "  print('Index out of bounds')\n",
        "except:\n",
        "  print('Unkown Error')"
      ],
      "metadata": {
        "colab": {
          "base_uri": "https://localhost:8080/"
        },
        "id": "jSx9-ukG1hy9",
        "outputId": "8a1e9249-7069-488f-bb2d-67dbe5b8ad08"
      },
      "execution_count": 16,
      "outputs": [
        {
          "output_type": "stream",
          "name": "stdout",
          "text": [
            "Enter index:12\n",
            "Index out of bounds\n"
          ]
        }
      ]
    },
    {
      "cell_type": "code",
      "source": [
        "\n",
        "def ListAverage(n):\n",
        "  try:\n",
        "    return sum(n) / len(n)\n",
        "  except TypeError:\n",
        "    print('The list can only contain numbers. ')\n",
        "    return None\n",
        "  except ZeroDivisionError:\n",
        "    print('List is empty')\n",
        "    return float('nan')\n",
        "l = [1,2,3]\n",
        "ListAverage(l)\n",
        "\n",
        "\n",
        ""
      ],
      "metadata": {
        "colab": {
          "base_uri": "https://localhost:8080/"
        },
        "id": "p69bp6eF3M0d",
        "outputId": "55644f6f-94ac-4692-c092-f43f2990f829"
      },
      "execution_count": 38,
      "outputs": [
        {
          "output_type": "execute_result",
          "data": {
            "text/plain": [
              "2.0"
            ]
          },
          "metadata": {},
          "execution_count": 38
        }
      ]
    }
  ]
}