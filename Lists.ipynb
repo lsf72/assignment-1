{
  "nbformat": 4,
  "nbformat_minor": 0,
  "metadata": {
    "colab": {
      "provenance": [],
      "authorship_tag": "ABX9TyPO4KgUB+2n9J+1C7JebYCh",
      "include_colab_link": true
    },
    "kernelspec": {
      "name": "python3",
      "display_name": "Python 3"
    },
    "language_info": {
      "name": "python"
    }
  },
  "cells": [
    {
      "cell_type": "markdown",
      "metadata": {
        "id": "view-in-github",
        "colab_type": "text"
      },
      "source": [
        "<a href=\"https://colab.research.google.com/github/lsf72/assignment-1/blob/main/Lists.ipynb\" target=\"_parent\"><img src=\"https://colab.research.google.com/assets/colab-badge.svg\" alt=\"Open In Colab\"/></a>"
      ]
    },
    {
      "cell_type": "code",
      "execution_count": 2,
      "metadata": {
        "id": "RSO2E7NOn86H"
      },
      "outputs": [],
      "source": [
        "L = [1, \"two\", 3.0, print, [5, 7, 9]]"
      ]
    },
    {
      "cell_type": "code",
      "source": [
        "len(L)"
      ],
      "metadata": {
        "colab": {
          "base_uri": "https://localhost:8080/"
        },
        "id": "qaLg_nlAo9oT",
        "outputId": "93c99daf-611f-431d-c0f0-2c22c2e9e0c0"
      },
      "execution_count": 3,
      "outputs": [
        {
          "output_type": "execute_result",
          "data": {
            "text/plain": [
              "5"
            ]
          },
          "metadata": {},
          "execution_count": 3
        }
      ]
    },
    {
      "cell_type": "code",
      "source": [
        "L[2]"
      ],
      "metadata": {
        "colab": {
          "base_uri": "https://localhost:8080/"
        },
        "id": "2_TJ3grgp1W2",
        "outputId": "bc368d8c-94d5-49c7-e8b5-4534f901c1e6"
      },
      "execution_count": 4,
      "outputs": [
        {
          "output_type": "execute_result",
          "data": {
            "text/plain": [
              "3.0"
            ]
          },
          "metadata": {},
          "execution_count": 4
        }
      ]
    },
    {
      "cell_type": "code",
      "source": [
        "L[-1]"
      ],
      "metadata": {
        "colab": {
          "base_uri": "https://localhost:8080/"
        },
        "id": "Nadn27PUqa8z",
        "outputId": "16369da2-b627-4dcc-dc39-f5a4c8af64a3"
      },
      "execution_count": 5,
      "outputs": [
        {
          "output_type": "execute_result",
          "data": {
            "text/plain": [
              "[5, 7, 9]"
            ]
          },
          "metadata": {},
          "execution_count": 5
        }
      ]
    },
    {
      "cell_type": "code",
      "source": [
        "L[:3]"
      ],
      "metadata": {
        "colab": {
          "base_uri": "https://localhost:8080/"
        },
        "id": "mQ3uGtftqxrD",
        "outputId": "7ac9e1c7-dc2d-4d7e-d4f5-647bc7486744"
      },
      "execution_count": 6,
      "outputs": [
        {
          "output_type": "execute_result",
          "data": {
            "text/plain": [
              "[1, 'two', 3.0]"
            ]
          },
          "metadata": {},
          "execution_count": 6
        }
      ]
    },
    {
      "cell_type": "code",
      "source": [
        "3 * ['three', 9.99, 0]"
      ],
      "metadata": {
        "colab": {
          "base_uri": "https://localhost:8080/"
        },
        "id": "gV36W_p4r8jJ",
        "outputId": "6302cd09-3486-4d7e-8561-3c215275e57f"
      },
      "execution_count": 7,
      "outputs": [
        {
          "output_type": "execute_result",
          "data": {
            "text/plain": [
              "['three', 9.99, 0, 'three', 9.99, 0, 'three', 9.99, 0]"
            ]
          },
          "metadata": {},
          "execution_count": 7
        }
      ]
    },
    {
      "cell_type": "code",
      "source": [
        "L"
      ],
      "metadata": {
        "colab": {
          "base_uri": "https://localhost:8080/"
        },
        "id": "PMb89Lantlv8",
        "outputId": "5f840a3c-3296-49de-d95f-24ad66d203e1"
      },
      "execution_count": 8,
      "outputs": [
        {
          "output_type": "execute_result",
          "data": {
            "text/plain": [
              "[1, 'two', 3.0, <function print>, [5, 7, 9]]"
            ]
          },
          "metadata": {},
          "execution_count": 8
        }
      ]
    },
    {
      "cell_type": "code",
      "source": [
        "L[3] = 'b'"
      ],
      "metadata": {
        "id": "2ZPJE-3QuqrO"
      },
      "execution_count": 9,
      "outputs": []
    },
    {
      "cell_type": "code",
      "source": [
        "L"
      ],
      "metadata": {
        "colab": {
          "base_uri": "https://localhost:8080/"
        },
        "id": "1RAt1ilnuuCp",
        "outputId": "cea0c60e-0c8c-4612-8444-fcf5349861d7"
      },
      "execution_count": 10,
      "outputs": [
        {
          "output_type": "execute_result",
          "data": {
            "text/plain": [
              "[1, 'two', 3.0, 'b', [5, 7, 9]]"
            ]
          },
          "metadata": {},
          "execution_count": 10
        }
      ]
    },
    {
      "cell_type": "code",
      "source": [
        "for index in range(len(L)):\n",
        "  print(L[index])"
      ],
      "metadata": {
        "colab": {
          "base_uri": "https://localhost:8080/"
        },
        "id": "SMYSEsCywKBb",
        "outputId": "11ce3777-d4f7-4ade-b2ed-35b0cd03057f"
      },
      "execution_count": 11,
      "outputs": [
        {
          "output_type": "stream",
          "name": "stdout",
          "text": [
            "1\n",
            "two\n",
            "3.0\n",
            "b\n",
            "[5, 7, 9]\n"
          ]
        }
      ]
    },
    {
      "cell_type": "code",
      "source": [
        "L_outer = [[1,2,3],[4,5,6]]\n",
        "l = L_outer[1]\n",
        "l[0]= 7\n",
        "L_outer[1]=L\n",
        "print (L_outer)"
      ],
      "metadata": {
        "colab": {
          "base_uri": "https://localhost:8080/"
        },
        "id": "fXkKQdc9x9eW",
        "outputId": "7b52e962-72bf-4bd9-f5e1-59447179685d"
      },
      "execution_count": 12,
      "outputs": [
        {
          "output_type": "stream",
          "name": "stdout",
          "text": [
            "[[1, 2, 3], [1, 'two', 3.0, 'b', [5, 7, 9]]]\n"
          ]
        }
      ]
    },
    {
      "cell_type": "code",
      "source": [
        "L.append(['three', 4])\n",
        "L"
      ],
      "metadata": {
        "colab": {
          "base_uri": "https://localhost:8080/"
        },
        "id": "edTWHtU49Pwa",
        "outputId": "8c331ae6-5ab1-4c28-d5a5-d030d9145e16"
      },
      "execution_count": 15,
      "outputs": [
        {
          "output_type": "execute_result",
          "data": {
            "text/plain": [
              "[1, 'two', 3.0, 'b', [5, 7, 9], ['three'], ['three'], ['three', 4]]"
            ]
          },
          "metadata": {},
          "execution_count": 15
        }
      ]
    },
    {
      "cell_type": "code",
      "source": [
        "#In class list practice\n",
        "L = []\n",
        "\n",
        "number = int(input('Enter value '))\n",
        "while True:\n",
        "  if number != 0:\n",
        "   L.append(number)\n",
        "   print(L)\n",
        "   number = int(input('Enter value '))\n",
        "  if number == 0:\n",
        "   print(L)\n",
        "   number = int(input('Enter value '))\n"
      ],
      "metadata": {
        "colab": {
          "base_uri": "https://localhost:8080/"
        },
        "id": "yazr_FAVBnfr",
        "outputId": "997003c3-c3bc-40d5-82ab-f85bac6e27e1"
      },
      "execution_count": null,
      "outputs": [
        {
          "output_type": "stream",
          "name": "stdout",
          "text": [
            "Enter value 1\n",
            "[1]\n",
            "Enter value 3\n",
            "[1, 3]\n",
            "Enter value 0\n",
            "[1, 3]\n",
            "Enter value 2\n",
            "[1, 3, 2]\n",
            "Enter value 9\n",
            "[1, 3, 2, 9]\n"
          ]
        }
      ]
    }
  ]
}