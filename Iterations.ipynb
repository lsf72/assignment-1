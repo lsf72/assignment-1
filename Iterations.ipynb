{
  "nbformat": 4,
  "nbformat_minor": 0,
  "metadata": {
    "colab": {
      "provenance": [],
      "authorship_tag": "ABX9TyMBPvbhKCRRIgG3aYkO1ct2",
      "include_colab_link": true
    },
    "kernelspec": {
      "name": "python3",
      "display_name": "Python 3"
    },
    "language_info": {
      "name": "python"
    }
  },
  "cells": [
    {
      "cell_type": "markdown",
      "metadata": {
        "id": "view-in-github",
        "colab_type": "text"
      },
      "source": [
        "<a href=\"https://colab.research.google.com/github/lsf72/assignment-1/blob/main/Iterations.ipynb\" target=\"_parent\"><img src=\"https://colab.research.google.com/assets/colab-badge.svg\" alt=\"Open In Colab\"/></a>"
      ]
    },
    {
      "cell_type": "code",
      "execution_count": null,
      "metadata": {
        "colab": {
          "base_uri": "https://localhost:8080/"
        },
        "id": "ujbayXXXeDm8",
        "outputId": "9d67f1b8-89c8-4645-e88d-24091d5d800b"
      },
      "outputs": [
        {
          "output_type": "stream",
          "name": "stdout",
          "text": [
            "Collecting ColabTurtlePlus\n",
            "  Downloading ColabTurtlePlus-2.0.1-py3-none-any.whl (31 kB)\n",
            "Installing collected packages: ColabTurtlePlus\n",
            "Successfully installed ColabTurtlePlus-2.0.1\n"
          ]
        }
      ],
      "source": [
        "!pip install ColabTurtlePlus"
      ]
    },
    {
      "cell_type": "code",
      "source": [
        "from ColabTurtlePlus.Turtle import *\n",
        "\n",
        "clearscreen()\n",
        "\n",
        "color('black', 'green')\n",
        "\n",
        "begin_fill()\n",
        "\n",
        "for i in range(4):\n",
        "  forward(100)\n",
        "  left(90)\n",
        "\n",
        "end_fill()"
      ],
      "metadata": {
        "colab": {
          "base_uri": "https://localhost:8080/",
          "height": 621
        },
        "id": "W1_3g3_JeTN3",
        "outputId": "2b32462f-9a7e-4e57-eff3-cb7c75ba4f9b"
      },
      "execution_count": null,
      "outputs": [
        {
          "output_type": "display_data",
          "data": {
            "text/plain": [
              "<IPython.core.display.HTML object>"
            ],
            "text/html": [
              "\n",
              "      <svg width=\"800\" height=\"600\">  \n",
              "        <rect width=\"100%\" height=\"100%\" style=\"fill:white;stroke:;stroke-width:1\"/>\n",
              "        \n",
              "        \n",
              "        <path fill-rule=\"evenodd\" fill-opacity=\"1\" d=\"M 400.0 300.0  L 500.0 300.0  L 500.0 200.0  L 400.0 200.0  L 400.0 300.0 \" stroke-linecap=\"round\" style=\"stroke:black;stroke-width:1\" fill=\"green\" />\n",
              "        \n",
              "        \n",
              "        <g id=\"classic\" visibility=\"visible\" transform=\"rotate(-90,400.0,300.0) translate(400.0, 300.0)\">\n",
              "<polygon points=\"-5,-4.5 0,-2.5 5,-4.5 0,4.5\" transform=\"skewX(0) scale(1,1)\" style=\"stroke:black;fill:green;stroke-width:1\" />\n",
              "</g>\n",
              "      </svg>\n",
              "    "
            ]
          },
          "metadata": {}
        }
      ]
    },
    {
      "cell_type": "code",
      "source": [
        "for i in range(10,20,1):\n",
        "  print(i)"
      ],
      "metadata": {
        "colab": {
          "base_uri": "https://localhost:8080/"
        },
        "id": "-cGVnC2CoizI",
        "outputId": "f8c17a4c-7138-4d95-eb58-e8840eed7a45"
      },
      "execution_count": null,
      "outputs": [
        {
          "output_type": "stream",
          "name": "stdout",
          "text": [
            "10\n",
            "11\n",
            "12\n",
            "13\n",
            "14\n",
            "15\n",
            "16\n",
            "17\n",
            "18\n",
            "19\n"
          ]
        }
      ]
    }
  ]
}